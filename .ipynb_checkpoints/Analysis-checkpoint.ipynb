{
 "cells": [
  {
   "metadata": {
    "collapsed": true
   },
   "cell_type": "code",
   "source": [
    "#Load needed libraries\n",
    "import pandas as pd\n",
    "import numpy as np\n",
    "import seaborn as sns\n",
    "import matplotlib.pyplot as plt\n",
    "from geopy.geocoders import Nominatim\n",
    "from geopy.extra.rate_limiter import RateLimiter\n",
    "\n",
    "#Load data set in and check information\n",
    "traffic = pd.read_csv(r\"C:\\Users\\whift\\Downloads\\pd_collisions_details_datasd.csv\", dtype = {'report_id':str})\n",
    "traffic.info"
   ],
   "id": "initial_id",
   "outputs": [],
   "execution_count": null
  },
  {
   "metadata": {},
   "cell_type": "code",
   "source": [
    "#Quick overview of data set\n",
    "traffic.head()"
   ],
   "id": "2a3bb41cff9bc174",
   "outputs": [],
   "execution_count": null
  },
  {
   "metadata": {},
   "cell_type": "code",
   "source": [
    "#Convert the column date_time into datetime for easier time filtering\n",
    "traffic = traffic.rename(columns = {'date_time':'date'})\n",
    "traffic['date'] = pd.to_datetime(traffic['date'], format = '%Y-%m-%d %H:%M:%S')\n",
    "\n",
    "# Keep only year and month as datetime (day will be set to 1)\n",
    "traffic['date'] = traffic['date'].dt.to_period('M').dt.to_timestamp()\n",
    "\n",
    "#Filter the years 2020 through 2025 only\n",
    "traffic_2020_2025 = traffic[(traffic['date'].dt.year >= 2020) & (traffic['date'].dt.year <= 2025)]\n",
    "\n",
    "#Filter data to bicyclist accidents, set with injury greater than 1 to focus on crashes and avoid events that are just citations\n",
    "bike_accidents = traffic_2020_2025[(traffic_2020_2025['person_role'] == 'BICYCLIST') & (traffic_2020_2025['injured'] >= 1) ]\n",
    "\n",
    "#See a good amount of the new filtered data\n",
    "bike_accidents.head(30)"
   ],
   "id": "514d900fac7d19a3",
   "outputs": [],
   "execution_count": null
  },
  {
   "metadata": {},
   "cell_type": "markdown",
   "source": "<span style=\"color: white\"> Start of temporal Analysis </span>",
   "id": "dd73ce5f314f92e7"
  },
  {
   "metadata": {},
   "cell_type": "code",
   "source": [
    "\n",
    "#Create a daily count using dates \n",
    "daily = (bike_accidents.groupby('date').size().rename('count').reset_index().sort_values('date'))\n",
    "\n",
    "#30-day moving average \n",
    "daily['rolling30'] = daily['count'].rolling(window=30).mean()\n",
    "\n",
    "#Create plot figure\n",
    "plt.figure(figsize=(13, 6))\n",
    "\n",
    "# raw daily dots\n",
    "plt.scatter(\n",
    "    daily['date'], daily['count'],\n",
    "    s=8, alpha=0.45, color='steelblue', label='Raw Daily Count'\n",
    ")\n",
    "\n",
    "# 30-day moving-average line\n",
    "plt.plot(\n",
    "    daily['date'], daily['rolling30'],\n",
    "    color='crimson', linewidth=2.2, label='30-Day Moving Avg'\n",
    ")\n",
    "\n",
    "# Cosmetics\n",
    "plt.title('Daily Bicycle-Crash Trend with 30-Day Moving Average', fontsize=14)\n",
    "plt.xlabel('Date')\n",
    "plt.ylabel('Crash Count')\n",
    "plt.grid(alpha=0.25)\n",
    "plt.legend()\n",
    "plt.tight_layout()\n",
    "plt.show()\n"
   ],
   "id": "22f6185882a952db",
   "outputs": [],
   "execution_count": null
  },
  {
   "metadata": {},
   "cell_type": "markdown",
   "source": "<span style=\"color: white\"> So with the graph above we see a positive linear trend. As the years increase in x the count of crashes increases as well. We can say that the crashes per year has been steadily increasing but seems to dip a little bit in 2025. We would see in the scatter plot below that it may be due to the month we are in, June where bike crashes usually dips. The smooth line skipped 2020 and 2021 because there was no valid 30 data points that were accumalated meaning there is a lack of consistency or daily data points for those years.   text</span>",
   "id": "c2b21239a926f3ef"
  },
  {
   "metadata": {},
   "cell_type": "code",
   "source": [
    "#Create a 15day moving average to compare with the 30day moving average since a 15day moving average is more sensitive to sudden changes\n",
    "daily['rolling15'] = daily['count'].rolling(15).mean()\n",
    "daily['rolling30'] = daily['count'].rolling(30).mean()\n",
    "\n",
    "#Plot 15 vs 30 day moving average for comparison\n",
    "plt.figure(figsize=(13, 6))\n",
    "plt.plot(daily['date'], daily['rolling15'], label='15-Day Avg', color='orange')\n",
    "plt.plot(daily['date'], daily['rolling30'], label='30-Day Avg', color='red')\n",
    "plt.legend()\n",
    "plt.title('15 vs 30-Day Moving Average')\n",
    "plt.show()\n"
   ],
   "id": "f3651db1398a54d0",
   "outputs": [],
   "execution_count": null
  },
  {
   "metadata": {},
   "cell_type": "markdown",
   "source": "<span style=\"color: white\"> Compared to the 30 day moving average the smoothing line for the 15 moving average exist as early as 2021 meaning it was able to find consistency and was able to find at least 15 data points to take the average of. The 15 day moving average has similar peaks with it just being more exaggerated. text</span>",
   "id": "aecf970bd4a2e0f4"
  },
  {
   "metadata": {},
   "cell_type": "code",
   "source": [
    "\n",
    "# Create a copy of data frame \n",
    "bike_accidents = bike_accidents.copy()\n",
    "bike_accidents['year'] = bike_accidents['date'].dt.year\n",
    "bike_accidents['month_num'] = bike_accidents['date'].dt.month\n",
    "bike_accidents['month'] = bike_accidents['date'].dt.month_name()\n",
    "\n",
    "# Group + sort\n",
    "monthly_trend = (\n",
    "    bike_accidents.groupby(['year', 'month', 'month_num'])\n",
    "    .size()\n",
    "    .reset_index(name='count')\n",
    "    .sort_values('month_num')\n",
    ")\n",
    "\n",
    "# Pivot for plotting\n",
    "pivot = monthly_trend.pivot(index='month', columns='year', values='count')\n",
    "month_order = [\n",
    "    'January', 'February', 'March', 'April', 'May', 'June',\n",
    "    'July', 'August', 'September', 'October', 'November', 'December'\n",
    "]\n",
    "pivot = pivot.reindex(month_order)\n",
    "\n",
    "# Clean plotting\n",
    "fig, ax = plt.subplots(figsize=(14, 7))\n",
    "\n",
    "# Draw lines — dim all years, highlight one\n",
    "highlight_year = 2023  # choose one to highlight\n",
    "\n",
    "for year in pivot.columns:\n",
    "    if year == highlight_year:\n",
    "        ax.plot(pivot.index, pivot[year], label=str(year),\n",
    "                linewidth=3, color='crimson')\n",
    "    else:\n",
    "        ax.plot(pivot.index, pivot[year], label=str(year),\n",
    "                linewidth=1.5, alpha=0.5, linestyle='-')\n",
    "\n",
    "# Labels and layout\n",
    "ax.set_title(f'Monthly Bicycle Accidents Trend (Highlight: {highlight_year})', fontsize=16)\n",
    "ax.set_xlabel('Month')\n",
    "ax.set_ylabel('Occurrences')\n",
    "ax.set_xticks(range(len(month_order)))\n",
    "ax.set_xticklabels(month_order, rotation=0)\n",
    "ax.grid(True, linestyle='--', linewidth=0.5, alpha=0.3)\n",
    "\n",
    "# Clean legend\n",
    "ax.legend(title='Year', fontsize=9, title_fontsize=10, loc='upper left', bbox_to_anchor=(1, 1))\n",
    "\n",
    "plt.tight_layout()\n",
    "plt.show()\n",
    "\n"
   ],
   "id": "5f8574e933d8a9db",
   "outputs": [],
   "execution_count": null
  },
  {
   "metadata": {},
   "cell_type": "markdown",
   "source": "<span style=\"color: white\">  2023 seems to have the highest occurence of bicycle accidents. As stated earlier june seems to be the dipping point for 2025 and it seems that the rest of the years has a similar pattern. Montly trend can also be seen where the biggest peaks tend to happen in the summer months.    text</span>",
   "id": "648631b3d6be8096"
  },
  {
   "metadata": {},
   "cell_type": "markdown",
   "source": "<span style=\"color: white\">  End of temporal Analysis    text</span>",
   "id": "94fd757aa35b7a02"
  },
  {
   "metadata": {},
   "cell_type": "code",
   "source": [
    "#Now we want to see the top 10 charges in these accidents\n",
    "charge_count = bike_accidents.groupby('charge_desc')['report_id'].nunique().reset_index()\n",
    "charge_count = charge_count.rename(columns={'report_id': 'count'})\n",
    "#Sort to top 10 \n",
    "top_charges = charge_count.sort_values(by = 'count', ascending = False).head(10)\n",
    "\n",
    "#Create Bar plot for top 10 most common bicycle charges\n",
    "plt.figure(figsize=(12, 6))\n",
    "sns.barplot(data=top_charges, x='count', y='charge_desc',hue ='charge_desc', palette='viridis', legend = False)\n",
    "plt.title('Top 10 Most Common Bicycle-Related Charges')\n",
    "plt.xlabel('Number of Reports')\n",
    "plt.ylabel('Charge Description')\n",
    "plt.tight_layout()\n",
    "plt.show()"
   ],
   "id": "5b9440f3c4b594b7",
   "outputs": [],
   "execution_count": null
  },
  {
   "metadata": {},
   "cell_type": "markdown",
   "source": "<span style=\"color: white\"> Just a reminder that within these offenses at least 1 was injured. The top one charge shows the importance of having a turn single and making sure to always check the side you are turning on before acutally making the turn. </span>",
   "id": "269efbb7c0e029f0"
  },
  {
   "metadata": {},
   "cell_type": "code",
   "source": "bike_accidents",
   "id": "bddc7921996fdda5",
   "outputs": [],
   "execution_count": null
  },
  {
   "metadata": {},
   "cell_type": "code",
   "source": [
    "bike_accidents['address_no_primary'] = bike_accidents['address_no_primary'].replace(0, '')\n",
    "\n",
    "bike_accidents['address'] = bike_accidents[['address_no_primary','address_pd_primary','address_road_primary','address_sfx_primary','address_pd_intersecting','address_name_intersecting','address_sfx_intersecting']].apply(lambda x: ' '.join(x.astype(str)), axis = 1)\n",
    "bike_accidents['address']"
   ],
   "id": "83a9e0b76aeb602c",
   "outputs": [],
   "execution_count": null
  },
  {
   "metadata": {},
   "cell_type": "code",
   "source": [
    "top_10_charges = charge_count.sort_values(by='count', ascending=False).head(10)\n",
    "\n",
    "top_charge_types = top_10_charges['charge_desc'].tolist()\n",
    "filtered_map_data = bike_accidents[bike_accidents['charge_desc'].isin(top_charge_types)].copy()\n",
    "\n",
    "geolocator = Nominatim(user_agent=\"sd_bike_map\")\n",
    "geocode = RateLimiter(geolocator.geocode, min_delay_seconds=1)\n",
    "\n",
    "# Create lat/lon columns\n",
    "filtered_map_data['location'] = filtered_map_data['address'].apply(geocode)\n",
    "filtered_map_data['lat'] = filtered_map_data['location'].apply(lambda loc: loc.latitude if loc else None)\n",
    "filtered_map_data['lon'] = filtered_map_data['location'].apply(lambda loc: loc.longitude if loc else None)\n"
   ],
   "id": "d16000594c0bb7d6",
   "outputs": [],
   "execution_count": null
  },
  {
   "metadata": {},
   "cell_type": "code",
   "source": "",
   "id": "d8aec287632b12f3",
   "outputs": [],
   "execution_count": null
  }
 ],
 "metadata": {
  "kernelspec": {
   "display_name": "Python 3",
   "language": "python",
   "name": "python3"
  },
  "language_info": {
   "codemirror_mode": {
    "name": "ipython",
    "version": 2
   },
   "file_extension": ".py",
   "mimetype": "text/x-python",
   "name": "python",
   "nbconvert_exporter": "python",
   "pygments_lexer": "ipython2",
   "version": "2.7.6"
  }
 },
 "nbformat": 4,
 "nbformat_minor": 5
}
