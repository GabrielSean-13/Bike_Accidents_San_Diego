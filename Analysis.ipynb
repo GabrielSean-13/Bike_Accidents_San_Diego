{
 "cells": [
  {
   "metadata": {
    "collapsed": true
   },
   "cell_type": "code",
   "source": [
    "#Load needed libraries\n",
    "import seaborn as sns\n",
    "import matplotlib.pyplot as plt\n",
    "import pandas as pd\n",
    "\n",
    "\n",
    "#Load data set in and check information\n",
    "traffic = pd.read_csv(r\"C:\\Users\\whift\\Downloads\\pd_collisions_details_datasd.csv\", dtype = {'report_id':str})\n",
    "traffic.info"
   ],
   "id": "initial_id",
   "outputs": [],
   "execution_count": null
  },
  {
   "metadata": {},
   "cell_type": "code",
   "source": [
    "#Quick overview of data set\n",
    "traffic.head()"
   ],
   "id": "2a3bb41cff9bc174",
   "outputs": [],
   "execution_count": null
  },
  {
   "metadata": {},
   "cell_type": "markdown",
   "source": "<span style=\"color: white\"> Data Filtering </span>",
   "id": "c72a3fdbf57a52b3"
  },
  {
   "metadata": {},
   "cell_type": "code",
   "source": [
    "#Excludes the charges that has nothing to do with the bicyclist being the one at fault\n",
    "exclude_charges = [\n",
    "    'BICYCLE HEADLIGHT/REFLECTOR VIOL (I)',\n",
    "    'BICYCLE MUST STOP BEFORE INTERSECTION AT RED LIGHT (I)',\n",
    "    'BICYCLE OPERATORS SHALL OBEY VEHICLE LAWS (I)',\n",
    "    'BICYCLIST SHALL OBEY SIGNAL AND YIELD TO LAWFUL TRAFFIC (I)',\n",
    "    'BIKE LANE - UNSAFE MOVEMENT (I)',\n",
    "    'BRAKES REQUIRED ON BICYCLE (I)',\n",
    "    'CARRY ARTCL:PREV AT LEAST ONE HAND ON BICYCLE HANDLEBARS (I)',\n",
    "    'DISOBEY CONSTRUCTION WARNING DEV (I)',\n",
    "    'DRVG ON SIDEWALK (I)',\n",
    "    'FAIL TO RIDE BICYCLE:RIGHT EDGE OF ROADWAY (I)',\n",
    "    'FAILED TO STOP FOR STOP SIGN (I)',\n",
    "    'FAILURE TO MERGE INTO BICYCLE LANE BEFORE MAKING RIGHT TURN (I)',\n",
    "    'LANE USAGE:BICYCLIST FAILURE TO RIDE IN BIKE LANE (I)',\n",
    "    'LANE USAGE:OPERATING BICYCLE ON WRONG SIDE OF ROAD (I)',\n",
    "    'MOTORIZED BICYCLE: SAFETY/EQUIPMENT REQUIREMENTS (I)',\n",
    "    'MUST WEAR HELMET WHILE OPERATE CLASS 3 ELECTRIC BICYCLE (I)',\n",
    "    'NO BICYCLE LIGHT (I)',\n",
    "    'OPERATE MOTORIZED BIKE IN BIKE LANE SAFELY (I)',\n",
    "    'PARKING BICYCLE ON SIDEWALK/PEDESTRIAN PATH (I)',\n",
    "    'RED REFLECTOR ON REAR OF BIKE REQUIRED (I)',\n",
    "    'RIDING BICYCLE UNDER INFLUENCE OF ALCOHOL AND/OR DRUGS(IBR 90E)',\n",
    "    'SIGNAL LIGHTS:CIRCULAR GREEN (I)',\n",
    "    'SIGNAL LIGHTS:CIRCULAR RED (I)',\n",
    "    'SIGNAL LIGHTS:FLASHING RED (I)',\n",
    "    'SIGNAL LIGHTS:PEDESTRIAN CIRCULAR RED OR RED ARROW (I)',\n",
    "    'SIGNAL LIGHTS:RED ARROW (I)',\n",
    "    'SIGNAL LIGHTS:RIGHT TURN ON RED (I)',\n",
    "    'SUDDEN STOP W/O SIGNALING (I)',\n",
    "    'TURNS:ILLEGAL U-TURN IN A BUSINESS DISTRICT (I)',\n",
    "    'TURNS:ILLEGAL U-TURN IN A RES DISTRICT (I)',\n",
    "    'TURNS:ILLEGAL U-TURN OBSTRUCTED VIEW (I)',\n",
    "    'TURNS:IMPROPER LEFT HAND TURN (I)',\n",
    "    'TURNS:IMPROPER RIGHT HAND TURN (I)',\n",
    "    'TURNS:UNSAFE TURN AND/OR NO TURN SIGNAL (I)',\n",
    "    'UNSAFE START ON HWY (I)',\n",
    "    'UNSAFE TURNING MOVEMENT (I)'\n",
    "]\n",
    "\n",
    "traffic = traffic[~traffic['charge_desc'].isin(exclude_charges)]\n",
    "\n",
    "#Convert the column date_time into datetime for easier time filtering\n",
    "traffic = traffic.rename(columns = {'date_time':'date'})\n",
    "traffic['date'] = pd.to_datetime(traffic['date'], format = '%Y-%m-%d %H:%M:%S')\n",
    "\n",
    "# Keep only the month we do not need the time stamps for now\n",
    "traffic['date'] = traffic['date'].dt.date\n",
    "#Converts back to date time since running the line above makes it not a datetime 64 object anymore\n",
    "traffic['date'] = pd.to_datetime(traffic['date'], format = '%Y-%m-%d')\n",
    "\n",
    "#Filter the years 2020 through 2025 only\n",
    "traffic_2020_2025 = traffic[(traffic['date'].dt.year >= 2020) & (traffic['date'].dt.year <= 2025)]\n",
    "\n",
    "#Filter data to bicyclist accidents, set with injury greater than 1 to focus on crashes and avoid events that are just citations\n",
    "bike_accidents = traffic_2020_2025[(traffic_2020_2025['person_role'] == 'BICYCLIST') & (traffic_2020_2025['injured'] >= 1) ]\n",
    "\n",
    "#Now we drop any duplicates because if different people were involved in the same accident but have the same report_id then we should just count\n",
    "#The first instance because it counts as one whole accident.\n",
    "bike_accidents = bike_accidents.drop_duplicates(subset = ['report_id', 'date']).reset_index(drop = True)\n",
    "\n",
    "\n",
    "#See a good amount of the new filtered data\n",
    "bike_accidents.head(30)"
   ],
   "id": "514d900fac7d19a3",
   "outputs": [],
   "execution_count": null
  },
  {
   "metadata": {},
   "cell_type": "code",
   "source": [
    "#Heres a list of the charges that are deemed as accidents and not the bicyclist fault\n",
    "bike_accidents.groupby('charge_desc').nunique().reset_index()[['charge_desc']]\n"
   ],
   "id": "471ea633ca8d11fa",
   "outputs": [],
   "execution_count": null
  },
  {
   "metadata": {},
   "cell_type": "markdown",
   "source": "<span style=\"color: white\"> Start of temporal Analysis </span>",
   "id": "dd73ce5f314f92e7"
  },
  {
   "metadata": {},
   "cell_type": "code",
   "source": [
    "# Group by full date (no timestamp assumed)\n",
    "daily_counts = bike_accidents.groupby('date').size().reset_index(name='count')\n",
    "\n",
    "# Sort by date just in case\n",
    "daily_counts = daily_counts.sort_values('date')\n",
    "\n",
    "# 30-day moving average\n",
    "daily_counts['30d_avg'] = daily_counts['count'].rolling(window=30, center=True).mean()\n",
    "\n",
    "# Plot\n",
    "plt.figure(figsize=(14, 6))\n",
    "plt.scatter(daily_counts['date'], daily_counts['count'], color='skyblue', alpha=0.4, s=8, label='Raw Daily Count')\n",
    "plt.plot(daily_counts['date'], daily_counts['30d_avg'], color='red', linewidth=2, label='30-Day Moving Avg')\n",
    "\n",
    "# Optional vertical annotation\n",
    "plt.axvline(pd.to_datetime('2020-03-19'), color='black', linestyle='--', linewidth=1)\n",
    "plt.text(pd.to_datetime('2020-03-19'), max(daily_counts['count']) * 0.95, 'March 19 : Covid LockDown',\n",
    "         rotation=90, verticalalignment='top', fontsize=9)\n",
    "\n",
    "# Titles and labels\n",
    "plt.title('Daily Trend for Bicycle Accidents with 30-Day Moving Average')\n",
    "plt.xlabel('Date')\n",
    "plt.ylabel('Crash Count')\n",
    "plt.legend()\n",
    "plt.tight_layout()\n",
    "plt.show()\n"
   ],
   "id": "22f6185882a952db",
   "outputs": [],
   "execution_count": null
  },
  {
   "metadata": {},
   "cell_type": "markdown",
   "source": "<span style=\"color: white\"> The scatter plot above is fitted with a smoothing line of a  30 day moving average. Peaks in 2023 and 2024 has been higher than the previous years this could be a sign of an increase in bike accidents throughout the year. There seems to be peaks in the middle of the months in the summer meaning there might be monthly trends(we will look at this closely later on).    text</span>",
   "id": "c2b21239a926f3ef"
  },
  {
   "metadata": {},
   "cell_type": "code",
   "source": [
    "# Group by full date\n",
    "daily_counts = bike_accidents.groupby('date').size().reset_index(name='count')\n",
    "\n",
    "# Sort by date\n",
    "daily_counts = daily_counts.sort_values('date')\n",
    "\n",
    "# Calculate moving averages\n",
    "daily_counts['15d_avg'] = daily_counts['count'].rolling(window=15, center=True).mean()\n",
    "daily_counts['30d_avg'] = daily_counts['count'].rolling(window=30, center=True).mean()\n",
    "\n",
    "# Plot\n",
    "plt.figure(figsize=(14, 6))\n",
    "plt.plot(daily_counts['date'], daily_counts['15d_avg'], color='orange', label='15-Day Moving Avg', linewidth=2)\n",
    "plt.plot(daily_counts['date'], daily_counts['30d_avg'], color='red', label='30-Day Moving Avg', linewidth=2)\n",
    "\n",
    "# Optional raw data scatter for reference\n",
    "plt.scatter(daily_counts['date'], daily_counts['count'], color='lightgrey', alpha=0.3, s=8, label='Raw Daily Count')\n",
    "\n",
    "# Titles and labels\n",
    "plt.title('15 vs 30-Day Moving Average for Bicycle Accidents')\n",
    "plt.xlabel('Date')\n",
    "plt.ylabel('Crash Count')\n",
    "plt.legend()\n",
    "plt.tight_layout()\n",
    "plt.show()\n"
   ],
   "id": "f3651db1398a54d0",
   "outputs": [],
   "execution_count": null
  },
  {
   "metadata": {},
   "cell_type": "markdown",
   "source": "<span style=\"color: white\"> Here is a graph comparing a 15 day moving average vs a 30 day moving average. A 15 day moving average is more sensitve with changes making the peaks more exaggerated, but results in more noise. The huge peaks in the middle of the months are now easier seems easier to spot.  </span>",
   "id": "aecf970bd4a2e0f4"
  },
  {
   "metadata": {},
   "cell_type": "code",
   "source": [
    "#Remove the days in the dates\n",
    "year_month = bike_accidents.copy()\n",
    "year_month['date'] = year_month['date'].dt.to_period('M')\n",
    "\n",
    "# Calculate monthly counts\n",
    "year_month['year'] = year_month['date'].dt.year\n",
    "year_month['month'] = year_month['date'].dt.month\n",
    "monthly_counts = year_month.groupby(['year', 'month']).size().reset_index(name='counts')\n",
    "\n",
    "# Apply 3-month rolling average\n",
    "monthly_counts['rolling'] = monthly_counts.groupby('year')['counts'].transform(lambda x: x.rolling(3, min_periods=1).mean())\n",
    "\n",
    "# Plot\n",
    "plt.figure(figsize=(12, 7))\n",
    "sns.set(style=\"whitegrid\", palette=\"muted\")\n",
    "\n",
    "for year, group in monthly_counts.groupby('year'):\n",
    "    plt.plot(group['month'], group['rolling'], marker='o', linewidth=2, label=str(year))\n",
    "\n",
    "plt.title('Smoothed Monthly Bicycle Accident Trend by Year', fontsize=14)\n",
    "plt.xlabel('Month')\n",
    "plt.ylabel('Accident Count (3-Month Avg)')\n",
    "plt.xticks(ticks=range(1, 13), labels=['Jan', 'Feb', 'Mar', 'Apr', 'May', 'Jun',\n",
    "                                       'Jul', 'Aug', 'Sep', 'Oct', 'Nov', 'Dec'])\n",
    "plt.legend(title='Year', loc='upper right')\n",
    "plt.tight_layout()\n",
    "plt.show()\n",
    "\n"
   ],
   "id": "5f8574e933d8a9db",
   "outputs": [],
   "execution_count": null
  },
  {
   "metadata": {},
   "cell_type": "markdown",
   "source": "<span style=\"color: white\">  2023 seems to be the year with the biggest peak in accidents compared to the rest of the year. All of the years except 2025 of course have huge peakse during the summer this is because this are the times when people are more active. We have spotted our monthly trend with huge peaks in the summer. We can also see that the beggining of the year seems to dip meaning it has the lowest amount of accidents.   text</span>",
   "id": "648631b3d6be8096"
  },
  {
   "metadata": {},
   "cell_type": "markdown",
   "source": "<span style=\"color: white\">  End of temporal Analysis    text</span>",
   "id": "94fd757aa35b7a02"
  },
  {
   "metadata": {},
   "cell_type": "code",
   "source": [
    "#Now we want to see the top 10 charges in these accidents\n",
    "charge_count = bike_accidents.groupby('charge_desc')['report_id'].nunique().reset_index()\n",
    "charge_count = charge_count.rename(columns={'report_id': 'count'})\n",
    "#Sort to top 10 \n",
    "top_charges = charge_count.sort_values(by = 'count', ascending = False).head(10)\n",
    "\n",
    "#Create Bar plot for top 10 most common bicycle charges\n",
    "plt.figure(figsize=(12, 6))\n",
    "sns.barplot(data=top_charges, x='count', y='charge_desc',hue ='charge_desc', palette='viridis', legend = False)\n",
    "plt.title('Top 10 Most Common Bicycle-Related Charges')\n",
    "plt.xlabel('Number of Reports')\n",
    "plt.ylabel('Charge Description')\n",
    "plt.tight_layout()\n",
    "plt.show()"
   ],
   "id": "5b9440f3c4b594b7",
   "outputs": [],
   "execution_count": null
  },
  {
   "metadata": {},
   "cell_type": "markdown",
   "source": "<span style=\"color: white\"> Just a reminder that within these offenses at least 1 was injured. </span>",
   "id": "269efbb7c0e029f0"
  },
  {
   "metadata": {},
   "cell_type": "code",
   "source": [
    "#On the address_no_primary column some has a input as 0 which does not make sense so we just replace it with a blank space instead\n",
    "bike_accidents['address_no_primary'] = bike_accidents['address_no_primary'].replace(0, '')\n",
    "\n",
    "#Combine address column to make a valid address\n",
    "bike_accidents['address'] = bike_accidents[['address_no_primary','address_pd_primary','address_road_primary','address_sfx_primary','address_pd_intersecting','address_name_intersecting','address_sfx_intersecting']].apply(lambda x: ''.join(x.astype(str)), axis = 1)\n",
    "bike_accidents"
   ],
   "id": "83a9e0b76aeb602c",
   "outputs": [],
   "execution_count": null
  },
  {
   "metadata": {},
   "cell_type": "code",
   "source": [
    "#Check the frequency of bike accident reports depending on address\n",
    "danger_address = bike_accidents.groupby(['address'])['report_id'].size().sort_values( ascending = False).reset_index().head(10)\n",
    "#Just to see what the address with the most frequent accident had as a charge description\n",
    "bike_accidents[bike_accidents['address'] == danger_address['address'][0]][['charge_desc']]"
   ],
   "id": "d16000594c0bb7d6",
   "outputs": [],
   "execution_count": null
  },
  {
   "metadata": {},
   "cell_type": "code",
   "source": [
    "# Create a copy to add hue values (same as y to simulate color intensity per bar)\n",
    "danger_address_plot = danger_address.copy()\n",
    "danger_address_plot['hue'] = danger_address_plot['address']  # Dummy hue to apply palette\n",
    "\n",
    "# Plot\n",
    "plt.figure(figsize=(12, 6))\n",
    "sns.set(style=\"whitegrid\")\n",
    "sns.barplot(\n",
    "    data=danger_address_plot,\n",
    "    x='report_id',\n",
    "    y='address',\n",
    "    hue='hue',\n",
    "    dodge=False,\n",
    "    palette='Reds_r',\n",
    "    legend=False\n",
    ")\n",
    "\n",
    "plt.title('Top 10 Most Frequent Bicycle Accident Locations in San Diego', fontsize=14)\n",
    "plt.xlabel('Number of Reports')\n",
    "plt.ylabel('Address')\n",
    "plt.tight_layout()\n",
    "plt.show()\n"
   ],
   "id": "594a65c48f9fcacd",
   "outputs": [],
   "execution_count": null
  },
  {
   "metadata": {},
   "cell_type": "markdown",
   "source": "<span style=\"color: white\"> Torrey Pines road has the most reports from the year 2020-2025 so it is best to stay cautious in that area. In the top 10 torrey pines occupoes 3 out of the 10 spots. </span>",
   "id": "d4e269113b658e6a"
  }
 ],
 "metadata": {
  "kernelspec": {
   "display_name": "Python 3",
   "language": "python",
   "name": "python3"
  },
  "language_info": {
   "codemirror_mode": {
    "name": "ipython",
    "version": 2
   },
   "file_extension": ".py",
   "mimetype": "text/x-python",
   "name": "python",
   "nbconvert_exporter": "python",
   "pygments_lexer": "ipython2",
   "version": "2.7.6"
  }
 },
 "nbformat": 4,
 "nbformat_minor": 5
}
